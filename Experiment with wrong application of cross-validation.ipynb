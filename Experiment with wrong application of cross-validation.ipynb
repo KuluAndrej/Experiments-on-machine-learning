{
 "cells": [
  {
   "cell_type": "markdown",
   "metadata": {},
   "source": [
    "We consider two operations:\n",
    "\n",
    " * Selecting best predictors\n",
    " * Dividing feature matrix on train and test\n",
    " \n",
    "We refute commutative property of these operations in terms of cross-validation error of a classifier. "
   ]
  },
  {
   "cell_type": "code",
   "execution_count": 30,
   "metadata": {
    "collapsed": false
   },
   "outputs": [],
   "source": [
    "import numpy as np\n",
    "from sklearn.covariance import empirical_covariance as cov\n",
    "from sklearn import datasets\n",
    "from sklearn import preprocessing\n",
    "from sklearn.svm import SVC"
   ]
  },
  {
   "cell_type": "markdown",
   "metadata": {},
   "source": [
    "** DataSets **"
   ]
  },
  {
   "cell_type": "code",
   "execution_count": 69,
   "metadata": {
    "collapsed": false
   },
   "outputs": [],
   "source": [
    "uniform_vector = np.random.uniform(-1, 1, size=1000)\n",
    "uniform_matrix = np.random.rand(50,2000) # uniform distribution over [0,1), given range (d0, d1, ...)\n",
    "standart_normal_matrix = np.random.randn(50,2000) # standart normal, given range (d0, d1, ...)\n",
    "normal_vector = np.random.normal(0.5, 2, 50)\n",
    "normal_matrix = np.random.normal(0, 1, (50,2000)) # normally distributed samples of given mean and variance"
   ]
  },
  {
   "cell_type": "code",
   "execution_count": 70,
   "metadata": {
    "collapsed": false
   },
   "outputs": [],
   "source": [
    "x_size = normal_matrix.shape[1]\n",
    "y_size = normal_matrix.shape[0]\n",
    "predictors  = normal_matrix\n",
    "target = normal_vector.reshape(-1,1)\n",
    "target = preprocessing.binarize(target, threshold = 0.5)"
   ]
  },
  {
   "cell_type": "code",
   "execution_count": 74,
   "metadata": {
    "collapsed": false
   },
   "outputs": [],
   "source": [
    "def find_indices_of_best_predictors(predictors, target):\n",
    "    x_size = predictors.shape[1]\n",
    "    y_size = predictors.shape[0]\n",
    "    \n",
    "    covariances = np.zeros(x_size)\n",
    "    for ind, column in enumerate(predictors.T):\n",
    "        covariances[ind] = np.cov(np.vstack((column.T, target.T)))[0,1]\n",
    "\n",
    "    indices_of_sorted = sorted(range(len(covariances)), key = lambda x: np.abs(covariances[x]))\n",
    "    indices_of_sorted = np.transpose(indices_of_sorted)\n",
    "\n",
    "    NUMBER_OF_PREDICTORS = 100\n",
    "    indices_best_predictors = indices_of_sorted[-NUMBER_OF_PREDICTORS:-1]\n",
    "    return indices_best_predictors"
   ]
  },
  {
   "cell_type": "code",
   "execution_count": 72,
   "metadata": {
    "collapsed": true
   },
   "outputs": [],
   "source": [
    "def divide_on_train_and_test(predictors, target, fraction = 0.7):\n",
    "    random_train_indices = np.random.choice([True, False], predictors.shape[0], p = [fraction, 1 - fraction]) \n",
    "    \n",
    "    random_train_matrix = predictors[random_train_indices, : ]\n",
    "    random_train_target = target[random_train_indices, :].reshape(sum(random_train_indices),)\n",
    "    \n",
    "    random_test_matrix = predictors[~random_train_indices, : ]\n",
    "    random_test_target = target[~random_train_indices, :].reshape(sum(~random_train_indices),)\n",
    "    \n",
    "    return ((random_train_matrix, random_train_target), (random_test_matrix, random_test_target))"
   ]
  },
  {
   "cell_type": "code",
   "execution_count": 73,
   "metadata": {
    "collapsed": false
   },
   "outputs": [],
   "source": [
    "def classify_and_check(train_matrix, train_target, test_matrix, test_target):\n",
    "    model = SVC()\n",
    "    model.fit(train_matrix, train_target.reshape(train_target.shape[0],)) \n",
    "    \n",
    "    prediction = model.predict(test_matrix) \n",
    "    error = sum(prediction != test_target) / len(test_target)\n",
    "    return error"
   ]
  },
  {
   "cell_type": "code",
   "execution_count": 68,
   "metadata": {
    "collapsed": false
   },
   "outputs": [
    {
     "data": {
      "text/plain": [
       "0.048483147485469467"
      ]
     },
     "execution_count": 68,
     "metadata": {},
     "output_type": "execute_result"
    }
   ],
   "source": [
    "tries = 100\n",
    "measures_of_error = np.zeros(tries)\n",
    "for one_try in range(tries):\n",
    "    features_matrix = predictors[ : , find_indices_of_best_predictors(predictors, target)]\n",
    "    (train_matrix, train_target), (test_matrix, test_target) = divide_on_train_and_test(selected_features_matrix, target)\n",
    "    measures_of_error[one_try] = classify_and_check(train_matrix, train_target, test_matrix, test_target)\n",
    "         \n",
    "measures_of_error.mean()"
   ]
  },
  {
   "cell_type": "code",
   "execution_count": 75,
   "metadata": {
    "collapsed": false
   },
   "outputs": [
    {
     "data": {
      "text/plain": [
       "0.65241005712524069"
      ]
     },
     "execution_count": 75,
     "metadata": {},
     "output_type": "execute_result"
    }
   ],
   "source": [
    "tries = 100\n",
    "measures_of_error = np.zeros(tries)\n",
    "for one_try in range(tries):\n",
    "    (train_matrix, train_target), (test_matrix, test_target) = divide_on_train_and_test(predictors, target)\n",
    "    indices_of_best_predictors = find_indices_of_best_predictors(train_matrix, train_target)\n",
    "    train_matrix = train_matrix[: , indices_of_best_predictors]\n",
    "    test_matrix = test_matrix[: , indices_of_best_predictors]\n",
    "    \n",
    "    measures_of_error[one_try] = classify_and_check(train_matrix, train_target, test_matrix, test_target)\n",
    "    \n",
    "measures_of_error.mean()"
   ]
  }
 ],
 "metadata": {
  "kernelspec": {
   "display_name": "Python 3",
   "language": "python",
   "name": "python3"
  },
  "language_info": {
   "codemirror_mode": {
    "name": "ipython",
    "version": 3
   },
   "file_extension": ".py",
   "mimetype": "text/x-python",
   "name": "python",
   "nbconvert_exporter": "python",
   "pygments_lexer": "ipython3",
   "version": "3.4.2"
  }
 },
 "nbformat": 4,
 "nbformat_minor": 0
}
