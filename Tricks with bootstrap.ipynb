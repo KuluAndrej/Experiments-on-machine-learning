{
 "cells": [
  {
   "cell_type": "code",
   "execution_count": 1,
   "metadata": {
    "collapsed": true
   },
   "outputs": [],
   "source": [
    "import numpy as np\n",
    "from sklearn.covariance import empirical_covariance as cov\n",
    "from sklearn import datasets\n",
    "from sklearn import preprocessing\n",
    "from sklearn.svm import SVC"
   ]
  },
  {
   "cell_type": "markdown",
   "metadata": {},
   "source": [
    "** First, check the average fraction of unique elements in bootstrapped sample with respect to the total number. **"
   ]
  },
  {
   "cell_type": "code",
   "execution_count": 6,
   "metadata": {
    "collapsed": false
   },
   "outputs": [
    {
     "name": "stdout",
     "output_type": "stream",
     "text": [
      "0.63299  approximately equal to 1 - 1/e =  0.6321205588285577\n"
     ]
    }
   ],
   "source": [
    "tries = 1000\n",
    "datasample = np.random.rand(100, 1)\n",
    "measures = np.zeros(tries)\n",
    "for one_try in range(tries):\n",
    "    bootstrapped = np.random.randint(0, len(datasample), size = len(datasample))\n",
    "    measures[one_try] = len(np.unique(datasample[bootstrapped])) / len(bootstrapped)\n",
    "\n",
    "print(measures.mean(), \" approximately equal to 1 - 1/e = \", 1 - 1/np.e)"
   ]
  },
  {
   "cell_type": "markdown",
   "metadata": {},
   "source": [
    "** Check that bootstrap is not applicable in counting conditional error rate E[X|T] **"
   ]
  },
  {
   "cell_type": "code",
   "execution_count": 25,
   "metadata": {
    "collapsed": false
   },
   "outputs": [],
   "source": [
    "uniform_vector = np.random.uniform(-1, 1, size=1000)\n",
    "uniform_matrix = np.random.rand(50,2000) # uniform distribution over [0,1), given range (d0, d1, ...)\n",
    "standart_normal_matrix = np.random.randn(50,2000) # standart normal, given range (d0, d1, ...)\n",
    "normal_vector = np.random.normal(0.5, 2, 200)\n",
    "normal_matrix = np.random.normal(0, 1, (200,2000)) # normally distributed samples of given mean and variance\n",
    "\n",
    "x_size = normal_matrix.shape[1]\n",
    "y_size = normal_matrix.shape[0]\n",
    "predictors  = normal_matrix\n",
    "target = normal_vector.reshape(-1,1)\n",
    "target = preprocessing.binarize(target, threshold = 0.5)"
   ]
  },
  {
   "cell_type": "code",
   "execution_count": 26,
   "metadata": {
    "collapsed": true
   },
   "outputs": [],
   "source": [
    "def classify_and_check(train_matrix, train_target, test_matrix, test_target):\n",
    "    train_target = train_target.reshape(train_matrix.shape[0],)\n",
    "    test_target = test_target.reshape(test_matrix.shape[0],)\n",
    "    model = SVC()\n",
    "    model.fit(train_matrix, train_target.reshape(train_target.shape[0],)) \n",
    "    \n",
    "    prediction = model.predict(test_matrix) \n",
    "    error = sum(prediction != test_target) / len(test_target)\n",
    "    return error"
   ]
  },
  {
   "cell_type": "code",
   "execution_count": 27,
   "metadata": {
    "collapsed": true
   },
   "outputs": [],
   "source": [
    "def split_according_to_bootstrap(predictors, target):\n",
    "    random_bootstrap_indices = np.random.randint(0, predictors.shape[0], size = predictors.shape[0])\n",
    "    unique_bootstrap_indices = np.unique(random_bootstrap_indices)\n",
    "    not_presented_indices = [ind for ind in range(predictors.shape[0]) if not ind in unique_bootstrap_indices]\n",
    "    \n",
    "    random_train_matrix = predictors[unique_bootstrap_indices, : ]\n",
    "    random_train_target = target[unique_bootstrap_indices, : ]\n",
    "    \n",
    "    random_test_matrix = predictors[not_presented_indices, : ]\n",
    "    random_test_target = target[not_presented_indices, : ]\n",
    "    \n",
    "    return ((random_train_matrix, random_train_target), (random_test_matrix, random_test_target))"
   ]
  },
  {
   "cell_type": "markdown",
   "metadata": {},
   "source": [
    "** Try to apply bootstrap and evaluate error on the whole dataset including the samples from the bootstrapped dataset **"
   ]
  },
  {
   "cell_type": "code",
   "execution_count": 28,
   "metadata": {
    "collapsed": false
   },
   "outputs": [
    {
     "data": {
      "text/plain": [
       "0.17749999999999999"
      ]
     },
     "execution_count": 28,
     "metadata": {},
     "output_type": "execute_result"
    }
   ],
   "source": [
    "tries = 100\n",
    "measures_of_error = np.zeros(tries)\n",
    "for one_try in range(tries):\n",
    "    indices_of_bootstrapped_samples = np.random.randint(0, predictors.shape[0], size = predictors.shape[0])\n",
    "    train_matrix = predictors[indices_of_bootstrapped_samples, : ]\n",
    "    train_target = target[indices_of_bootstrapped_samples, :]\n",
    "    measures_of_error[one_try] = classify_and_check(train_matrix, train_target, predictors, target)\n",
    "         \n",
    "measures_of_error.mean()"
   ]
  },
  {
   "cell_type": "markdown",
   "metadata": {},
   "source": [
    "** Not try to evaluate error only on those samples, which are not presented in the BD **"
   ]
  },
  {
   "cell_type": "code",
   "execution_count": 32,
   "metadata": {
    "collapsed": false
   },
   "outputs": [
    {
     "data": {
      "text/plain": [
       "0.47913317094185998"
      ]
     },
     "execution_count": 32,
     "metadata": {},
     "output_type": "execute_result"
    }
   ],
   "source": [
    "tries = 400\n",
    "measures_of_error = np.zeros(tries)\n",
    "for one_try in range(tries):\n",
    "    ((train_matrix, train_target), (test_matrix, test_target)) = split_according_to_bootstrap(predictors, target)\n",
    "    measures_of_error[one_try] = classify_and_check(train_matrix, train_target, test_matrix, test_target)\n",
    "         \n",
    "measures_of_error.mean()"
   ]
  }
 ],
 "metadata": {
  "kernelspec": {
   "display_name": "Python 3",
   "language": "python",
   "name": "python3"
  },
  "language_info": {
   "codemirror_mode": {
    "name": "ipython",
    "version": 3
   },
   "file_extension": ".py",
   "mimetype": "text/x-python",
   "name": "python",
   "nbconvert_exporter": "python",
   "pygments_lexer": "ipython3",
   "version": "3.4.2"
  }
 },
 "nbformat": 4,
 "nbformat_minor": 0
}
